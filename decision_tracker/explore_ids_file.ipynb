{
 "cells": [
  {
   "cell_type": "code",
   "execution_count": 1,
   "metadata": {},
   "outputs": [],
   "source": [
    "import os\n",
    "import numpy as np\n",
    "import json\n",
    "import pandas as pd\n",
    "from tqdm import tqdm\n",
    "import matplotlib.pyplot as plt\n",
    "%matplotlib inline"
   ]
  },
  {
   "cell_type": "markdown",
   "metadata": {},
   "source": [
    "# Load Results and ID Switch File"
   ]
  },
  {
   "cell_type": "code",
   "execution_count": 2,
   "metadata": {},
   "outputs": [],
   "source": [
    "# Load Sample Prediction Tracks\n",
    "TRACK_DIR = os.path.join(os.getcwd(), 'tracks/predicted_tracks_mini.json')\n",
    "with open(TRACK_DIR, \"r\") as file:\n",
    "    pred_json = json.load(file)\n",
    "\n",
    "# Load Track IDS Errors\n",
    "IDS_DIR = os.path.join(os.getcwd(), 'results/predicted_tracks_mini/ids.json')\n",
    "with open(IDS_DIR, \"r\") as file:\n",
    "    ids_json = json.load(file)"
   ]
  },
  {
   "cell_type": "markdown",
   "metadata": {},
   "source": [
    "# How to Index ID Switches"
   ]
  },
  {
   "cell_type": "code",
   "execution_count": 4,
   "metadata": {
    "scrolled": false
   },
   "outputs": [
    {
     "name": "stdout",
     "output_type": "stream",
     "text": [
      "Number of IDS at Threshold thr_0.3778: 174\n"
     ]
    }
   ],
   "source": [
    "# Define Parameters\n",
    "class_id = 'car'\n",
    "thresh = 'thr_0.3778'\n",
    "\n",
    "# Returns a list of the IDS at this threshold\n",
    "ids = ids_json[class_id][thresh]\n",
    "print(\"Number of IDS at Threshold {}: {}\".format(thresh, len(ids)))\n",
    "\n",
    "ids_df = pd.DataFrame(ids)"
   ]
  },
  {
   "cell_type": "code",
   "execution_count": 7,
   "metadata": {
    "scrolled": false
   },
   "outputs": [
    {
     "data": {
      "text/html": [
       "<div>\n",
       "<style scoped>\n",
       "    .dataframe tbody tr th:only-of-type {\n",
       "        vertical-align: middle;\n",
       "    }\n",
       "\n",
       "    .dataframe tbody tr th {\n",
       "        vertical-align: top;\n",
       "    }\n",
       "\n",
       "    .dataframe thead th {\n",
       "        text-align: right;\n",
       "    }\n",
       "</style>\n",
       "<table border=\"1\" class=\"dataframe\">\n",
       "  <thead>\n",
       "    <tr style=\"text-align: right;\">\n",
       "      <th></th>\n",
       "      <th>scene_id</th>\n",
       "      <th>object_id</th>\n",
       "      <th>sample_token</th>\n",
       "      <th>hypothesis_id</th>\n",
       "      <th>prev_match_sample_token</th>\n",
       "      <th>prev_match_hypothesis_id</th>\n",
       "      <th>frame_num</th>\n",
       "      <th>prev_match_frame_num</th>\n",
       "      <th>from_frag</th>\n",
       "      <th>class</th>\n",
       "    </tr>\n",
       "  </thead>\n",
       "  <tbody>\n",
       "    <tr>\n",
       "      <th>0</th>\n",
       "      <td>e233467e827140efa4b42d2b4c435855</td>\n",
       "      <td>bb0f40c613904cdcb3299a73e105c3c4</td>\n",
       "      <td>050b2d9c4bb647b7ab4ee94bdb538e1d</td>\n",
       "      <td>2230.0</td>\n",
       "      <td>3ff58ee0fc4748d9895300f02114aa56</td>\n",
       "      <td>2146.0</td>\n",
       "      <td>13</td>\n",
       "      <td>11</td>\n",
       "      <td>1</td>\n",
       "      <td>car</td>\n",
       "    </tr>\n",
       "    <tr>\n",
       "      <th>1</th>\n",
       "      <td>e233467e827140efa4b42d2b4c435855</td>\n",
       "      <td>246622de508246f8b2da378fb858beb4</td>\n",
       "      <td>4e169e93acb346d59de1af7f2b4882e1</td>\n",
       "      <td>2208.0</td>\n",
       "      <td>eff61ec3657c4d1c9327e3fe6ca639d3</td>\n",
       "      <td>2190.0</td>\n",
       "      <td>9</td>\n",
       "      <td>6</td>\n",
       "      <td>1</td>\n",
       "      <td>car</td>\n",
       "    </tr>\n",
       "    <tr>\n",
       "      <th>2</th>\n",
       "      <td>e233467e827140efa4b42d2b4c435855</td>\n",
       "      <td>be4d0d7c1a7f425196af0f454baee445</td>\n",
       "      <td>d7cb9aa06de1442d8e2a22d562045cb4</td>\n",
       "      <td>2357.0</td>\n",
       "      <td>8cc06390249d4895b5b9b860f0952f24</td>\n",
       "      <td>2341.0</td>\n",
       "      <td>36</td>\n",
       "      <td>35</td>\n",
       "      <td>0</td>\n",
       "      <td>car</td>\n",
       "    </tr>\n",
       "    <tr>\n",
       "      <th>3</th>\n",
       "      <td>6f83169d067343658251f72e1dd17dbc</td>\n",
       "      <td>6a0d7a293cc34a84b9857a4fa38cd4a3</td>\n",
       "      <td>e9a1c915c0d641d0b0a3019112a1ee90</td>\n",
       "      <td>97.0</td>\n",
       "      <td>5bbeb4e68d51413f81a370cb33ef27fb</td>\n",
       "      <td>110.0</td>\n",
       "      <td>2</td>\n",
       "      <td>1</td>\n",
       "      <td>0</td>\n",
       "      <td>car</td>\n",
       "    </tr>\n",
       "    <tr>\n",
       "      <th>4</th>\n",
       "      <td>6f83169d067343658251f72e1dd17dbc</td>\n",
       "      <td>6a0d7a293cc34a84b9857a4fa38cd4a3</td>\n",
       "      <td>a860c02c06e54d9dbe83ce7b694f6c17</td>\n",
       "      <td>239.0</td>\n",
       "      <td>a0462df7186d4ca99ef58f455d53a42c</td>\n",
       "      <td>97.0</td>\n",
       "      <td>17</td>\n",
       "      <td>13</td>\n",
       "      <td>1</td>\n",
       "      <td>car</td>\n",
       "    </tr>\n",
       "    <tr>\n",
       "      <th>...</th>\n",
       "      <td>...</td>\n",
       "      <td>...</td>\n",
       "      <td>...</td>\n",
       "      <td>...</td>\n",
       "      <td>...</td>\n",
       "      <td>...</td>\n",
       "      <td>...</td>\n",
       "      <td>...</td>\n",
       "      <td>...</td>\n",
       "      <td>...</td>\n",
       "    </tr>\n",
       "    <tr>\n",
       "      <th>169</th>\n",
       "      <td>de7d80a1f5fb4c3e82ce8a4f213b450a</td>\n",
       "      <td>d31da07d75a14a25bda005fa7fa30f5a</td>\n",
       "      <td>acf9fcbeb1e346b98640f694f15460e8</td>\n",
       "      <td>2548.0</td>\n",
       "      <td>056becbc0d5a46da8d59eebddedb47bb</td>\n",
       "      <td>2570.0</td>\n",
       "      <td>19</td>\n",
       "      <td>17</td>\n",
       "      <td>1</td>\n",
       "      <td>car</td>\n",
       "    </tr>\n",
       "    <tr>\n",
       "      <th>170</th>\n",
       "      <td>de7d80a1f5fb4c3e82ce8a4f213b450a</td>\n",
       "      <td>d31da07d75a14a25bda005fa7fa30f5a</td>\n",
       "      <td>f5f955d2d7594fb4b18ef615b421c98e</td>\n",
       "      <td>2598.0</td>\n",
       "      <td>acf9fcbeb1e346b98640f694f15460e8</td>\n",
       "      <td>2548.0</td>\n",
       "      <td>21</td>\n",
       "      <td>19</td>\n",
       "      <td>1</td>\n",
       "      <td>car</td>\n",
       "    </tr>\n",
       "    <tr>\n",
       "      <th>171</th>\n",
       "      <td>de7d80a1f5fb4c3e82ce8a4f213b450a</td>\n",
       "      <td>d31da07d75a14a25bda005fa7fa30f5a</td>\n",
       "      <td>8d7dcd1533704f5882a5afcb65509ed5</td>\n",
       "      <td>2382.0</td>\n",
       "      <td>6cb024831cce4b6e8acf85afb7cece6e</td>\n",
       "      <td>2598.0</td>\n",
       "      <td>25</td>\n",
       "      <td>22</td>\n",
       "      <td>1</td>\n",
       "      <td>car</td>\n",
       "    </tr>\n",
       "    <tr>\n",
       "      <th>172</th>\n",
       "      <td>de7d80a1f5fb4c3e82ce8a4f213b450a</td>\n",
       "      <td>17758f0189b946e59e54a03167fe24f2</td>\n",
       "      <td>c18d3bcc9297454ba52112c079cb756e</td>\n",
       "      <td>2688.0</td>\n",
       "      <td>49dfd2f2fef447cc9b8dec3e17c1c919</td>\n",
       "      <td>2677.0</td>\n",
       "      <td>29</td>\n",
       "      <td>28</td>\n",
       "      <td>0</td>\n",
       "      <td>car</td>\n",
       "    </tr>\n",
       "    <tr>\n",
       "      <th>173</th>\n",
       "      <td>de7d80a1f5fb4c3e82ce8a4f213b450a</td>\n",
       "      <td>b0e4c63cabd14ec48c7bdd6b6fbf9f4e</td>\n",
       "      <td>c18d3bcc9297454ba52112c079cb756e</td>\n",
       "      <td>2677.0</td>\n",
       "      <td>49dfd2f2fef447cc9b8dec3e17c1c919</td>\n",
       "      <td>2688.0</td>\n",
       "      <td>29</td>\n",
       "      <td>28</td>\n",
       "      <td>0</td>\n",
       "      <td>car</td>\n",
       "    </tr>\n",
       "  </tbody>\n",
       "</table>\n",
       "<p>174 rows × 10 columns</p>\n",
       "</div>"
      ],
      "text/plain": [
       "                             scene_id                         object_id  \\\n",
       "0    e233467e827140efa4b42d2b4c435855  bb0f40c613904cdcb3299a73e105c3c4   \n",
       "1    e233467e827140efa4b42d2b4c435855  246622de508246f8b2da378fb858beb4   \n",
       "2    e233467e827140efa4b42d2b4c435855  be4d0d7c1a7f425196af0f454baee445   \n",
       "3    6f83169d067343658251f72e1dd17dbc  6a0d7a293cc34a84b9857a4fa38cd4a3   \n",
       "4    6f83169d067343658251f72e1dd17dbc  6a0d7a293cc34a84b9857a4fa38cd4a3   \n",
       "..                                ...                               ...   \n",
       "169  de7d80a1f5fb4c3e82ce8a4f213b450a  d31da07d75a14a25bda005fa7fa30f5a   \n",
       "170  de7d80a1f5fb4c3e82ce8a4f213b450a  d31da07d75a14a25bda005fa7fa30f5a   \n",
       "171  de7d80a1f5fb4c3e82ce8a4f213b450a  d31da07d75a14a25bda005fa7fa30f5a   \n",
       "172  de7d80a1f5fb4c3e82ce8a4f213b450a  17758f0189b946e59e54a03167fe24f2   \n",
       "173  de7d80a1f5fb4c3e82ce8a4f213b450a  b0e4c63cabd14ec48c7bdd6b6fbf9f4e   \n",
       "\n",
       "                         sample_token  hypothesis_id  \\\n",
       "0    050b2d9c4bb647b7ab4ee94bdb538e1d         2230.0   \n",
       "1    4e169e93acb346d59de1af7f2b4882e1         2208.0   \n",
       "2    d7cb9aa06de1442d8e2a22d562045cb4         2357.0   \n",
       "3    e9a1c915c0d641d0b0a3019112a1ee90           97.0   \n",
       "4    a860c02c06e54d9dbe83ce7b694f6c17          239.0   \n",
       "..                                ...            ...   \n",
       "169  acf9fcbeb1e346b98640f694f15460e8         2548.0   \n",
       "170  f5f955d2d7594fb4b18ef615b421c98e         2598.0   \n",
       "171  8d7dcd1533704f5882a5afcb65509ed5         2382.0   \n",
       "172  c18d3bcc9297454ba52112c079cb756e         2688.0   \n",
       "173  c18d3bcc9297454ba52112c079cb756e         2677.0   \n",
       "\n",
       "              prev_match_sample_token  prev_match_hypothesis_id  frame_num  \\\n",
       "0    3ff58ee0fc4748d9895300f02114aa56                    2146.0         13   \n",
       "1    eff61ec3657c4d1c9327e3fe6ca639d3                    2190.0          9   \n",
       "2    8cc06390249d4895b5b9b860f0952f24                    2341.0         36   \n",
       "3    5bbeb4e68d51413f81a370cb33ef27fb                     110.0          2   \n",
       "4    a0462df7186d4ca99ef58f455d53a42c                      97.0         17   \n",
       "..                                ...                       ...        ...   \n",
       "169  056becbc0d5a46da8d59eebddedb47bb                    2570.0         19   \n",
       "170  acf9fcbeb1e346b98640f694f15460e8                    2548.0         21   \n",
       "171  6cb024831cce4b6e8acf85afb7cece6e                    2598.0         25   \n",
       "172  49dfd2f2fef447cc9b8dec3e17c1c919                    2677.0         29   \n",
       "173  49dfd2f2fef447cc9b8dec3e17c1c919                    2688.0         29   \n",
       "\n",
       "     prev_match_frame_num  from_frag class  \n",
       "0                      11          1   car  \n",
       "1                       6          1   car  \n",
       "2                      35          0   car  \n",
       "3                       1          0   car  \n",
       "4                      13          1   car  \n",
       "..                    ...        ...   ...  \n",
       "169                    17          1   car  \n",
       "170                    19          1   car  \n",
       "171                    22          1   car  \n",
       "172                    28          0   car  \n",
       "173                    28          0   car  \n",
       "\n",
       "[174 rows x 10 columns]"
      ]
     },
     "execution_count": 7,
     "metadata": {},
     "output_type": "execute_result"
    }
   ],
   "source": [
    "# List of all the IDS instance. \n",
    "ids_df"
   ]
  },
  {
   "cell_type": "code",
   "execution_count": 8,
   "metadata": {},
   "outputs": [
    {
     "name": "stdout",
     "output_type": "stream",
     "text": [
      "Number of Fragmentations at Each Threshold: \n",
      "\n",
      "thr_0.1697: 247\n",
      "thr_0.3077: 204\n",
      "thr_0.3778: 174\n",
      "thr_0.4350: 141\n",
      "thr_0.4566: 125\n",
      "thr_0.4813: 109\n",
      "thr_0.5030: 97\n",
      "thr_0.5231: 86\n",
      "thr_0.5361: 80\n",
      "thr_0.5564: 73\n",
      "thr_0.5776: 65\n",
      "thr_0.5879: 58\n",
      "thr_0.5982: 58\n",
      "thr_0.6114: 54\n",
      "thr_0.6186: 46\n",
      "thr_0.6281: 37\n",
      "thr_0.6324: 37\n",
      "thr_0.6421: 33\n",
      "thr_0.6493: 30\n",
      "thr_0.6537: 27\n",
      "thr_0.6595: 26\n",
      "thr_0.6677: 20\n",
      "thr_0.6712: 18\n",
      "thr_0.6837: 16\n",
      "thr_0.6906: 11\n",
      "thr_0.7002: 6\n",
      "thr_0.7045: 6\n",
      "thr_0.7182: 2\n",
      "thr_0.7254: 2\n",
      "thr_0.7339: 2\n",
      "thr_0.7419: 2\n",
      "thr_0.7544: 0\n",
      "thr_0.7695: 0\n"
     ]
    }
   ],
   "source": [
    "# View Number of IDS at each Threshold\n",
    "print(\"Number of IDS at Each Threshold: \\n\")\n",
    "for thresh, v in ids_json[class_id].items():\n",
    "    print(\"{}: {}\".format(thresh, len(v)))"
   ]
  },
  {
   "cell_type": "markdown",
   "metadata": {},
   "source": [
    "# How to Match ID Switch to Ground Truth"
   ]
  },
  {
   "cell_type": "code",
   "execution_count": 9,
   "metadata": {},
   "outputs": [
    {
     "data": {
      "text/plain": [
       "{'scene_id': 'e233467e827140efa4b42d2b4c435855',\n",
       " 'object_id': 'bb0f40c613904cdcb3299a73e105c3c4',\n",
       " 'sample_token': '050b2d9c4bb647b7ab4ee94bdb538e1d',\n",
       " 'hypothesis_id': 2230.0,\n",
       " 'prev_match_sample_token': '3ff58ee0fc4748d9895300f02114aa56',\n",
       " 'prev_match_hypothesis_id': 2146.0,\n",
       " 'frame_num': 13,\n",
       " 'prev_match_frame_num': 11,\n",
       " 'from_frag': 1,\n",
       " 'class': 'car'}"
      ]
     },
     "execution_count": 9,
     "metadata": {},
     "output_type": "execute_result"
    }
   ],
   "source": [
    "# Define Switch of Interest\n",
    "ids_of_interest = ids[0]\n",
    "ids_of_interest"
   ]
  },
  {
   "cell_type": "code",
   "execution_count": 11,
   "metadata": {},
   "outputs": [
    {
     "name": "stdout",
     "output_type": "stream",
     "text": [
      "======\n",
      "Loading NuScenes tables for version v1.0-mini...\n",
      "Loading table: sample_annotation.json\n",
      "Loading table: ego_pose.json\n",
      "Loading table: sample_data.json\n",
      "Loading table: category.json\n",
      "Loading table: attribute.json\n",
      "Loading table: visibility.json\n",
      "Loading table: instance.json\n",
      "Loading table: sensor.json\n",
      "Loading table: calibrated_sensor.json\n",
      "Loading table: log.json\n",
      "Loading table: scene.json\n",
      "Loading table: sample.json\n",
      "Loading table: map.json\n",
      "Loading nuScenes-lidarseg...\n",
      "Loading table: lidarseg.json\n",
      "Loading table: lidarseg.json\n",
      "Loading nuScenes-panoptic...\n",
      "Loading table: panoptic.json\n",
      "Loading table: panoptic.json\n",
      "32 category,\n",
      "8 attribute,\n",
      "4 visibility,\n",
      "911 instance,\n",
      "12 sensor,\n",
      "120 calibrated_sensor,\n",
      "31206 ego_pose,\n",
      "8 log,\n",
      "10 scene,\n",
      "404 sample,\n",
      "31206 sample_data,\n",
      "18538 sample_annotation,\n",
      "4 map,\n",
      "404 lidarseg,\n",
      "404 panoptic,\n",
      "Done loading in 0.350 seconds.\n",
      "======\n",
      "Reverse indexing ...\n",
      "Done reverse indexing in 0.1 seconds.\n",
      "======\n"
     ]
    }
   ],
   "source": [
    "from nuscenes.nuscenes import NuScenes\n",
    "nusc = NuScenes(version='v1.0-mini', verbose=True, dataroot='dataset/nuscenes')"
   ]
  },
  {
   "cell_type": "code",
   "execution_count": 15,
   "metadata": {},
   "outputs": [
    {
     "name": "stdout",
     "output_type": "stream",
     "text": [
      "{\n",
      "    \"token\": \"bb0f40c613904cdcb3299a73e105c3c4\",\n",
      "    \"category_token\": \"fd69059b62a3469fbaef25340c0eab7f\",\n",
      "    \"nbr_annotations\": 31,\n",
      "    \"first_annotation_token\": \"fedb34281be246299448d0647fb3b2df\",\n",
      "    \"last_annotation_token\": \"9527523d07dc4794a52d70e8273ad199\"\n",
      "}\n"
     ]
    }
   ],
   "source": [
    "# Object of Interest\n",
    "gt_instance = nusc.get('instance', ids_of_interest['object_id'])\n",
    "print(json.dumps(gt_instance, indent=4))"
   ]
  },
  {
   "cell_type": "markdown",
   "metadata": {},
   "source": [
    "# Ground Truth and Prediction Before ID Switch"
   ]
  },
  {
   "cell_type": "code",
   "execution_count": 21,
   "metadata": {},
   "outputs": [],
   "source": [
    "# Get the ground truth for the prediction at the specific frame\n",
    "def get_gt_anno(sample_id, object_id):\n",
    "    gt_sample = nusc.get('sample', sample_id)\n",
    "    for anno in gt_sample['anns']:\n",
    "        nusc_anno = nusc.get('sample_annotation', anno)\n",
    "        if nusc_anno['instance_token'] == object_id:\n",
    "            return nusc_anno\n",
    "    return None\n",
    "\n",
    "pre_IDS_gt = get_gt_anno(ids_of_interest['prev_match_sample_token'], ids_of_interest['object_id'])"
   ]
  },
  {
   "cell_type": "code",
   "execution_count": 30,
   "metadata": {},
   "outputs": [
    {
     "name": "stdout",
     "output_type": "stream",
     "text": [
      "Ground Truth: Last Match before IDS\n"
     ]
    },
    {
     "data": {
      "text/plain": [
       "{'token': 'a36666d4b9b040fbb5c5e4abf795836a',\n",
       " 'sample_token': '3ff58ee0fc4748d9895300f02114aa56',\n",
       " 'instance_token': 'bb0f40c613904cdcb3299a73e105c3c4',\n",
       " 'visibility_token': '2',\n",
       " 'attribute_tokens': ['cb5118da1ab342aa947717dc53544259'],\n",
       " 'translation': [1325.71, 921.782, 1.21],\n",
       " 'size': [1.711, 4.047, 1.637],\n",
       " 'rotation': [0.9055697244684551, 0.0, 0.0, 0.4241974470999635],\n",
       " 'prev': '0aa17afa86354013a7531a1b7382e075',\n",
       " 'next': '5de300a14552416897a9e22faca3be68',\n",
       " 'num_lidar_pts': 26,\n",
       " 'num_radar_pts': 0,\n",
       " 'category_name': 'vehicle.car'}"
      ]
     },
     "execution_count": 30,
     "metadata": {},
     "output_type": "execute_result"
    }
   ],
   "source": [
    "# This is the GT for the Match Frame before the IDS\n",
    "print(\"Ground Truth: Last Match before IDS\")\n",
    "pre_IDS_gt"
   ]
  },
  {
   "cell_type": "code",
   "execution_count": 29,
   "metadata": {},
   "outputs": [
    {
     "name": "stdout",
     "output_type": "stream",
     "text": [
      "Prediction: Last Match before IDS\n",
      "{\n",
      "    \"sample_token\": \"3ff58ee0fc4748d9895300f02114aa56\",\n",
      "    \"translation\": [\n",
      "        1325.5997448106796,\n",
      "        921.5883658122505,\n",
      "        1.2188003159485266\n",
      "    ],\n",
      "    \"size\": [\n",
      "        1.8960440158843994,\n",
      "        4.521152019500732,\n",
      "        1.5797898769378662\n",
      "    ],\n",
      "    \"rotation\": [\n",
      "        -0.900092814995186,\n",
      "        -0.006404147330047865,\n",
      "        0.03642030305891809,\n",
      "        -0.4341261024358173\n",
      "    ],\n",
      "    \"velocity\": [\n",
      "        4.627680564021536,\n",
      "        5.9646806548504605\n",
      "    ],\n",
      "    \"tracking_name\": \"car\",\n",
      "    \"tracking_score\": 0.8159610033035278,\n",
      "    \"tracking_id\": 2146,\n",
      "    \"attribute_name\": \"vehicle.moving\"\n",
      "}\n"
     ]
    }
   ],
   "source": [
    "# Prediction of Last Match before IDS\n",
    "pre_IDS_pred = pred_json['results'][ids_of_interest['prev_match_sample_token']]\n",
    "\n",
    "# Find Hypothesis\n",
    "obj_info = None\n",
    "found_obj = False\n",
    "for pred in pre_IDS_pred:\n",
    "    if pred['tracking_id'] == ids_of_interest['prev_match_hypothesis_id']:\n",
    "        obj_info = pred\n",
    "        found_obj = True\n",
    "        break\n",
    "\n",
    "print(\"Prediction: Last Match before IDS\")\n",
    "\n",
    "if found_obj:\n",
    "    print(json.dumps(obj_info, indent=4))\n",
    "else:\n",
    "    print(\"Could not find prediction\")"
   ]
  },
  {
   "cell_type": "markdown",
   "metadata": {},
   "source": [
    "# Ground Truth and Prediction when ID Switch Occurs"
   ]
  },
  {
   "cell_type": "code",
   "execution_count": 31,
   "metadata": {},
   "outputs": [],
   "source": [
    "IDS_gt = get_gt_anno(ids_of_interest['sample_token'], ids_of_interest['object_id'])"
   ]
  },
  {
   "cell_type": "code",
   "execution_count": 32,
   "metadata": {},
   "outputs": [
    {
     "name": "stdout",
     "output_type": "stream",
     "text": [
      "Ground Truth: when ID Switch Occurs\n"
     ]
    },
    {
     "data": {
      "text/plain": [
       "{'token': '8c273f6c96ac4a8687cd6e75f718db70',\n",
       " 'sample_token': '050b2d9c4bb647b7ab4ee94bdb538e1d',\n",
       " 'instance_token': 'bb0f40c613904cdcb3299a73e105c3c4',\n",
       " 'visibility_token': '1',\n",
       " 'attribute_tokens': ['cb5118da1ab342aa947717dc53544259'],\n",
       " 'translation': [1330.821, 928.003, 1.53],\n",
       " 'size': [1.711, 4.047, 1.637],\n",
       " 'rotation': [0.9055697244684551, 0.0, 0.0, 0.4241974470999635],\n",
       " 'prev': '5de300a14552416897a9e22faca3be68',\n",
       " 'next': '02274f020deb45828664a49631fe3540',\n",
       " 'num_lidar_pts': 1,\n",
       " 'num_radar_pts': 0,\n",
       " 'category_name': 'vehicle.car'}"
      ]
     },
     "execution_count": 32,
     "metadata": {},
     "output_type": "execute_result"
    }
   ],
   "source": [
    "# This is the GT for the Frame when ID Switch Occurs\n",
    "print(\"Ground Truth: when ID Switch Occurs\")\n",
    "IDS_gt"
   ]
  },
  {
   "cell_type": "code",
   "execution_count": 33,
   "metadata": {},
   "outputs": [
    {
     "name": "stdout",
     "output_type": "stream",
     "text": [
      "Prediction: when ID Switch Occurs\n",
      "{\n",
      "    \"sample_token\": \"050b2d9c4bb647b7ab4ee94bdb538e1d\",\n",
      "    \"translation\": [\n",
      "        1330.5415968726434,\n",
      "        928.3139878491701,\n",
      "        1.5523162465932605\n",
      "    ],\n",
      "    \"size\": [\n",
      "        1.9228668212890625,\n",
      "        4.482692718505859,\n",
      "        1.6988316774368286\n",
      "    ],\n",
      "    \"rotation\": [\n",
      "        -0.904163604642223,\n",
      "        -0.007150067158249172,\n",
      "        0.03588519925603187,\n",
      "        -0.42561638250233036\n",
      "    ],\n",
      "    \"velocity\": [\n",
      "        6.20677207288962,\n",
      "        7.370825961635694\n",
      "    ],\n",
      "    \"tracking_name\": \"car\",\n",
      "    \"tracking_score\": 0.5239403247833252,\n",
      "    \"tracking_id\": 2230,\n",
      "    \"attribute_name\": \"vehicle.moving\"\n",
      "}\n"
     ]
    }
   ],
   "source": [
    "# Prediction of Frame when ID Switch Occurs\n",
    "IDS_pred = pred_json['results'][ids_of_interest['sample_token']]\n",
    "\n",
    "# Find Hypothesis\n",
    "obj_info = None\n",
    "found_obj = False\n",
    "for pred in IDS_pred:\n",
    "    if pred['tracking_id'] == ids_of_interest['hypothesis_id']:\n",
    "        obj_info = pred\n",
    "        found_obj = True\n",
    "        break\n",
    "\n",
    "print(\"Prediction: when ID Switch Occurs\")\n",
    "if found_obj:\n",
    "    print(json.dumps(obj_info, indent=4))\n",
    "else:\n",
    "    print(\"Could not find prediction\")"
   ]
  }
 ],
 "metadata": {
  "kernelspec": {
   "display_name": "Python 3",
   "language": "python",
   "name": "python3"
  },
  "language_info": {
   "codemirror_mode": {
    "name": "ipython",
    "version": 3
   },
   "file_extension": ".py",
   "mimetype": "text/x-python",
   "name": "python",
   "nbconvert_exporter": "python",
   "pygments_lexer": "ipython3",
   "version": "3.8.10"
  }
 },
 "nbformat": 4,
 "nbformat_minor": 5
}
