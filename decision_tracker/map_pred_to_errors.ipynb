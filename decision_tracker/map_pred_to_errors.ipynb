{
 "cells": [
  {
   "cell_type": "code",
   "execution_count": 9,
   "metadata": {},
   "outputs": [],
   "source": [
    "import os\n",
    "import numpy\n",
    "import json"
   ]
  },
  {
   "cell_type": "markdown",
   "metadata": {},
   "source": [
    "# Load Results and Errors"
   ]
  },
  {
   "cell_type": "code",
   "execution_count": 10,
   "metadata": {},
   "outputs": [],
   "source": [
    "# Load Sample Prediction Tracks\n",
    "TRACK_DIR = os.path.join(os.getcwd(), 'tracks/predicted_tracks_mini.json')\n",
    "with open(TRACK_DIR, \"r\") as file:\n",
    "    pred_json = json.load(file)\n",
    "\n",
    "# Load Track Evaluation Errors\n",
    "ERRORS_DIR = os.path.join(os.getcwd(), 'results/predicted_tracks_mini/errors.json')\n",
    "with open(ERRORS_DIR, \"r\") as file:\n",
    "    errors_json = json.load(file)\n"
   ]
  },
  {
   "cell_type": "markdown",
   "metadata": {},
   "source": [
    "# How to Index Scenes in Error File"
   ]
  },
  {
   "cell_type": "code",
   "execution_count": 11,
   "metadata": {
    "scrolled": false
   },
   "outputs": [
    {
     "name": "stdout",
     "output_type": "stream",
     "text": [
      "Num SWITCH:  1\n",
      "Num MISS:  17\n",
      "Num FP:  4\n",
      "Num of Frames in Scene:  40\n",
      "\n",
      "\n",
      "Errors in the 13th scene: \n",
      "\n",
      "{\n",
      "    \"SWITCH\": [\n",
      "        {\n",
      "            \"type\": \"SWITCH\",\n",
      "            \"object_id\": \"bb0f40c613904cdcb3299a73e105c3c4\",\n",
      "            \"hypothesis_id\": 2230.0,\n",
      "            \"distance\": 0.4180664422940312,\n",
      "            \"gt\": {\n",
      "                \"num_pts\": 1,\n",
      "                \"size\": [\n",
      "                    1.711,\n",
      "                    4.047,\n",
      "                    1.637\n",
      "                ],\n",
      "                \"rotation\": [\n",
      "                    0.9055697244684551,\n",
      "                    0.0,\n",
      "                    0.0,\n",
      "                    0.4241974470999635\n",
      "                ],\n",
      "                \"velocity\": [\n",
      "                    5.277298468594521,\n",
      "                    6.5086014281926525\n",
      "                ],\n",
      "                \"translation\": [\n",
      "                    1330.821,\n",
      "                    928.003,\n",
      "                    1.53\n",
      "                ],\n",
      "                \"ego_translation\": [\n",
      "                    9.490090139989661,\n",
      "                    24.276546622478804,\n",
      "                    1.53\n",
      "                ],\n",
      "                \"ego_dist\": 26.065542902048215,\n",
      "                \"tracking_name\": \"car\",\n",
      "                \"tracking_score\": -1.0\n",
      "            }\n",
      "        }\n",
      "    ],\n",
      "    \"frame_id\": 13,\n",
      "    \"sample_token\": \"050b2d9c4bb647b7ab4ee94bdb538e1d\",\n",
      "    \"MISS\": [\n",
      "        {\n",
      "            \"type\": \"MISS\",\n",
      "            \"object_id\": \"0ba56cee062b419a80a6a90302944c19\",\n",
      "            \"hypothesis_id\": NaN,\n",
      "            \"distance\": NaN,\n",
      "            \"gt\": {\n",
      "                \"num_pts\": 1,\n",
      "                \"size\": [\n",
      "                    1.748,\n",
      "                    4.445,\n",
      "                    1.503\n",
      "                ],\n",
      "                \"rotation\": [\n",
      "                    0.86602178714035,\n",
      "                    0.0,\n",
      "                    0.0,\n",
      "                    0.5000062641589945\n",
      "                ],\n",
      "                \"velocity\": [\n",
      "                    4.16702528812816,\n",
      "                    7.254785025154623\n",
      "                ],\n",
      "                \"translation\": [\n",
      "                    1295.839,\n",
      "                    875.7,\n",
      "                    -0.929\n",
      "                ],\n",
      "                \"ego_translation\": [\n",
      "                    -25.49190986001031,\n",
      "                    -28.026453377521193,\n",
      "                    -0.929\n",
      "                ],\n",
      "                \"ego_dist\": 37.88561148026068,\n",
      "                \"tracking_name\": \"car\",\n",
      "                \"tracking_score\": -1.0\n",
      "            }\n",
      "        }\n",
      "    ],\n",
      "    \"FP\": []\n",
      "}\n"
     ]
    }
   ],
   "source": [
    "# Define Parameters\n",
    "class_id = 'car'\n",
    "thresh = 'thr_0.5231'\n",
    "scene_token ='e233467e827140efa4b42d2b4c435855'\n",
    "\n",
    "scene_id_errors = errors_json[class_id][thresh][scene_token]\n",
    "print(\"Num SWITCH: \", scene_id_errors['num_switch'])\n",
    "print(\"Num MISS: \", scene_id_errors['num_miss'])\n",
    "print(\"Num FP: \", scene_id_errors['num_fp'])\n",
    "print(\"Num of Frames in Scene: \", len(scene_id_errors['frame_errors']))\n",
    "\n",
    "print(\"\\n\")\n",
    "\n",
    "print(\"Errors in the 13th scene: \\n\")\n",
    "print(json.dumps(scene_id_errors['frame_errors'][13], indent=4))"
   ]
  },
  {
   "cell_type": "markdown",
   "metadata": {},
   "source": [
    "# Define Object of Interest"
   ]
  },
  {
   "cell_type": "code",
   "execution_count": 12,
   "metadata": {
    "scrolled": false
   },
   "outputs": [
    {
     "name": "stdout",
     "output_type": "stream",
     "text": [
      "Hypothesis: 2230\n"
     ]
    }
   ],
   "source": [
    "sample_id = '050b2d9c4bb647b7ab4ee94bdb538e1d'\n",
    "object_id = 'bb0f40c613904cdcb3299a73e105c3c4'\n",
    "hypothesis_id = int(scene_id_errors['frame_errors'][13]['SWITCH'][0][\"hypothesis_id\"])\n",
    "print(\"Hypothesis:\", hypothesis_id)"
   ]
  },
  {
   "cell_type": "markdown",
   "metadata": {},
   "source": [
    "# Find Prediction in Results File"
   ]
  },
  {
   "cell_type": "code",
   "execution_count": 13,
   "metadata": {
    "scrolled": false
   },
   "outputs": [
    {
     "name": "stdout",
     "output_type": "stream",
     "text": [
      "{\n",
      "    \"sample_token\": \"050b2d9c4bb647b7ab4ee94bdb538e1d\",\n",
      "    \"translation\": [\n",
      "        1330.5415968726434,\n",
      "        928.3139878491701,\n",
      "        1.5523162465932605\n",
      "    ],\n",
      "    \"size\": [\n",
      "        1.9228668212890625,\n",
      "        4.482692718505859,\n",
      "        1.6988316774368286\n",
      "    ],\n",
      "    \"rotation\": [\n",
      "        -0.904163604642223,\n",
      "        -0.007150067158249172,\n",
      "        0.03588519925603187,\n",
      "        -0.42561638250233036\n",
      "    ],\n",
      "    \"velocity\": [\n",
      "        6.20677207288962,\n",
      "        7.370825961635694\n",
      "    ],\n",
      "    \"tracking_name\": \"car\",\n",
      "    \"tracking_score\": 0.5239403247833252,\n",
      "    \"tracking_id\": 2230,\n",
      "    \"attribute_name\": \"vehicle.moving\"\n",
      "}\n"
     ]
    }
   ],
   "source": [
    "sample_pred = pred_json['results'][sample_id]\n",
    "\n",
    "# Find Hypothesis\n",
    "obj_info = None\n",
    "found_obj = False\n",
    "for pred in sample_pred:\n",
    "    if pred['tracking_id'] == hypothesis_id:\n",
    "        obj_info = pred\n",
    "        found_obj = True\n",
    "        break\n",
    "\n",
    "if found_obj:\n",
    "    print(json.dumps(obj_info, indent=4))\n",
    "else:\n",
    "    print(\"Could not find prediction\")"
   ]
  },
  {
   "cell_type": "markdown",
   "metadata": {},
   "source": [
    "# Find Ground Truth"
   ]
  },
  {
   "cell_type": "code",
   "execution_count": 14,
   "metadata": {},
   "outputs": [
    {
     "name": "stdout",
     "output_type": "stream",
     "text": [
      "======\n",
      "Loading NuScenes tables for version v1.0-mini...\n",
      "Loading table: sample_annotation.json\n",
      "Loading table: ego_pose.json\n",
      "Loading table: sample_data.json\n",
      "Loading table: category.json\n",
      "Loading table: attribute.json\n",
      "Loading table: visibility.json\n",
      "Loading table: instance.json\n",
      "Loading table: sensor.json\n",
      "Loading table: calibrated_sensor.json\n",
      "Loading table: log.json\n",
      "Loading table: scene.json\n",
      "Loading table: sample.json\n",
      "Loading table: map.json\n",
      "Loading nuScenes-lidarseg...\n",
      "Loading table: lidarseg.json\n",
      "Loading table: lidarseg.json\n",
      "Loading nuScenes-panoptic...\n",
      "Loading table: panoptic.json\n",
      "Loading table: panoptic.json\n",
      "32 category,\n",
      "8 attribute,\n",
      "4 visibility,\n",
      "911 instance,\n",
      "12 sensor,\n",
      "120 calibrated_sensor,\n",
      "31206 ego_pose,\n",
      "8 log,\n",
      "10 scene,\n",
      "404 sample,\n",
      "31206 sample_data,\n",
      "18538 sample_annotation,\n",
      "4 map,\n",
      "404 lidarseg,\n",
      "404 panoptic,\n",
      "Done loading in 0.262 seconds.\n",
      "======\n",
      "Reverse indexing ...\n",
      "Done reverse indexing in 0.1 seconds.\n",
      "======\n"
     ]
    }
   ],
   "source": [
    "from nuscenes.nuscenes import NuScenes\n",
    "nusc = NuScenes(version='v1.0-mini', verbose=True, dataroot='dataset/nuscenes')"
   ]
  },
  {
   "cell_type": "code",
   "execution_count": 15,
   "metadata": {},
   "outputs": [
    {
     "name": "stdout",
     "output_type": "stream",
     "text": [
      "{\n",
      "    \"token\": \"bb0f40c613904cdcb3299a73e105c3c4\",\n",
      "    \"category_token\": \"fd69059b62a3469fbaef25340c0eab7f\",\n",
      "    \"nbr_annotations\": 31,\n",
      "    \"first_annotation_token\": \"fedb34281be246299448d0647fb3b2df\",\n",
      "    \"last_annotation_token\": \"9527523d07dc4794a52d70e8273ad199\"\n",
      "}\n"
     ]
    }
   ],
   "source": [
    "# The instance token gets you the object in every frame it is annotated in\n",
    "gt_instance = nusc.get('instance', object_id)\n",
    "print(json.dumps(gt_instance, indent=4))"
   ]
  },
  {
   "cell_type": "code",
   "execution_count": 16,
   "metadata": {
    "scrolled": false
   },
   "outputs": [
    {
     "name": "stdout",
     "output_type": "stream",
     "text": [
      "{\n",
      "    \"token\": \"8c273f6c96ac4a8687cd6e75f718db70\",\n",
      "    \"sample_token\": \"050b2d9c4bb647b7ab4ee94bdb538e1d\",\n",
      "    \"instance_token\": \"bb0f40c613904cdcb3299a73e105c3c4\",\n",
      "    \"visibility_token\": \"1\",\n",
      "    \"attribute_tokens\": [\n",
      "        \"cb5118da1ab342aa947717dc53544259\"\n",
      "    ],\n",
      "    \"translation\": [\n",
      "        1330.821,\n",
      "        928.003,\n",
      "        1.53\n",
      "    ],\n",
      "    \"size\": [\n",
      "        1.711,\n",
      "        4.047,\n",
      "        1.637\n",
      "    ],\n",
      "    \"rotation\": [\n",
      "        0.9055697244684551,\n",
      "        0.0,\n",
      "        0.0,\n",
      "        0.4241974470999635\n",
      "    ],\n",
      "    \"prev\": \"5de300a14552416897a9e22faca3be68\",\n",
      "    \"next\": \"02274f020deb45828664a49631fe3540\",\n",
      "    \"num_lidar_pts\": 1,\n",
      "    \"num_radar_pts\": 0,\n",
      "    \"category_name\": \"vehicle.car\"\n",
      "}\n"
     ]
    }
   ],
   "source": [
    "# Get the ground truth for the prediction at the specific frame\n",
    "gt_sample = nusc.get('sample', sample_id)\n",
    "gt_anno = None\n",
    "# Iterate through the annotations in the sample frame\n",
    "for anno in gt_sample['anns']:\n",
    "    nusc_anno = nusc.get('sample_annotation', anno)\n",
    "    if nusc_anno['instance_token'] == object_id:\n",
    "        gt_anno = nusc_anno\n",
    "print(json.dumps(gt_anno, indent=4))"
   ]
  }
 ],
 "metadata": {
  "kernelspec": {
   "display_name": "Python 3",
   "language": "python",
   "name": "python3"
  },
  "language_info": {
   "codemirror_mode": {
    "name": "ipython",
    "version": 3
   },
   "file_extension": ".py",
   "mimetype": "text/x-python",
   "name": "python",
   "nbconvert_exporter": "python",
   "pygments_lexer": "ipython3",
   "version": "3.8.10"
  }
 },
 "nbformat": 4,
 "nbformat_minor": 4
}
